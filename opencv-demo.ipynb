{
 "cells": [
  {
   "cell_type": "code",
   "execution_count": null,
   "id": "8b3632d1",
   "metadata": {},
   "outputs": [],
   "source": [
    "import cv2"
   ]
  },
  {
   "cell_type": "code",
   "execution_count": null,
   "id": "208b2703",
   "metadata": {},
   "outputs": [],
   "source": [
    "print(cv2.__version__)"
   ]
  },
  {
   "cell_type": "markdown",
   "id": "8db89fff",
   "metadata": {},
   "source": [
    "## Demo"
   ]
  },
  {
   "cell_type": "code",
   "execution_count": null,
   "id": "44c30b88",
   "metadata": {},
   "outputs": [],
   "source": [
    "import pandas as pd\n",
    "import math\n",
    "\n",
    "# Training Site\n",
    "# water_col = [4750, 3849, 3061, 4026, 1975]\n",
    "# water_row = [3899, 3907, 3259, 3498, 5805]\n",
    "\n",
    "# land_col = [1211, 1308, 1298, 2212, 2262]\n",
    "# land_row = [2102, 2168, 2659, 2361, 3324]\n",
    "\n",
    "# veg_col = [6021, 6465, 4293, 6291, 4069]\n",
    "# veg_row = [3128, 3534, 5175, 5408, 6524]\n",
    "\n",
    "# Training Site\n",
    "water_col = [329, 660, 716, 1089, 954]\n",
    "water_row = [996, 695, 1233, 914, 773]\n",
    "\n",
    "land_col = [457, 814, 764, 824, 627]\n",
    "land_row = [139, 335, 831, 1165, 1194]\n",
    "\n",
    "veg_col = [533, 489, 737, 676, 778]\n",
    "veg_row = [337, 329, 119, 961, 1070]\n",
    "\n",
    "water = pd.DataFrame()\n",
    "land = pd.DataFrame()\n",
    "veg = pd.DataFrame()\n",
    "\n",
    "water['column'] = water_col\n",
    "water['row'] = water_row\n",
    "\n",
    "land['column'] = land_col\n",
    "land['row'] = land_row\n",
    "\n",
    "veg['column'] = veg_col\n",
    "veg['row'] = veg_row\n"
   ]
  },
  {
   "cell_type": "code",
   "execution_count": null,
   "id": "56d4b5a1",
   "metadata": {},
   "outputs": [],
   "source": [
    "# B G R\n",
    "# b = cv2.imread('blue.PNG', 0)\n",
    "# g = cv2.imread('green.PNG', 0)\n",
    "# r = cv2.imread('red.PNG', 0)\n",
    "\n",
    "b = cv2.imread('landsat8/LC09_L2SP_116050_20230224_20230226_02_T1_SR_B2.TIF', 0)\n",
    "g = cv2.imread('landsat8/LC09_L2SP_116050_20230224_20230226_02_T1_SR_B3.TIF', 0)\n",
    "r = cv2.imread('landsat8/LC09_L2SP_116050_20230224_20230226_02_T1_SR_B4.TIF', 0)\n",
    "\n",
    "image_merge = cv2.merge([b,g,r])\n",
    "\n",
    "#calculate the percent of original dimensions\n",
    "scale_percent = 20\n",
    "\n",
    "width = int(image_merge.shape[1] * scale_percent / 100)\n",
    "height = int(image_merge.shape[0] * scale_percent / 100)\n",
    "\n",
    "# dsize\n",
    "dsize = (width, height)\n",
    "output = cv2.resize(image_merge, dsize)\n",
    "\n",
    "b = cv2.resize(b, dsize)\n",
    "g = cv2.resize(g, dsize)\n",
    "r = cv2.resize(r, dsize)\n",
    "\n",
    "cv2.imwrite(\"rgb-resized-20.tif\", output);\n",
    "cv2.imwrite(\"b-resized-20.tif\", output);\n",
    "cv2.imwrite(\"g-resized-20.tif\", output);\n",
    "cv2.imwrite(\"r-resized-20.tif\", output);"
   ]
  },
  {
   "cell_type": "code",
   "execution_count": null,
   "id": "4e7a5e33",
   "metadata": {},
   "outputs": [],
   "source": [
    "\n",
    "image_merge = output\n",
    "\n",
    "# get mean vector\n",
    "water_b_mean = b[water['row'], water['column']].mean()\n",
    "water_g_mean = g[water['row'], water['column']].mean()\n",
    "water_r_mean = r[water['row'], water['column']].mean()\n",
    "\n",
    "land_b_mean = b[land['row'], land['column']].mean()\n",
    "land_g_mean = g[land['row'], land['column']].mean()\n",
    "land_r_mean = r[land['row'], land['column']].mean()\n",
    "\n",
    "veg_b_mean = b[veg['row'], veg['column']].mean()\n",
    "veg_g_mean = g[veg['row'], veg['column']].mean()\n",
    "veg_r_mean = r[veg['row'], veg['column']].mean()\n",
    "\n",
    "print(water_b_mean, water_g_mean, water_r_mean)\n",
    "print(land_b_mean, land_g_mean, land_r_mean)\n",
    "print(veg_b_mean, veg_g_mean, veg_r_mean)\n",
    "\n",
    "\n",
    "\n",
    "# grab the image dimensions\n",
    "h = image_merge.shape[0]\n",
    "w = image_merge.shape[1]\n",
    "\n",
    "# loop over the image\n",
    "for y in range(0, h):\n",
    "    for x in range(0, w):\n",
    "       \n",
    "        if b[y,x] == 0 and g[y,x] == 0 and r[y,x] == 0:\n",
    "            output[y, x] = [0, 0, 0]\n",
    "        \n",
    "        # minimum distance classifier\n",
    "        dw = math.sqrt( (b[y,x] - water_b_mean)**2 + (g[y,x] - water_g_mean)**2 + (r[y,x] - water_r_mean)**2)\n",
    "        dl = math.sqrt( (b[y,x] - land_b_mean)**2 + (g[y,x] - land_g_mean)**2 + (r[y,x] - land_r_mean)**2)\n",
    "        dv = math.sqrt( (b[y,x] - veg_b_mean)**2 + (g[y,x] - veg_g_mean)**2 + (r[y,x] - veg_r_mean)**2)\n",
    "        \n",
    "        if dw < dl and dw < dv :\n",
    "            output[y, x] = [255, 0, 0]\n",
    "        elif dl < dw and dl < dv :\n",
    "            image_merge[y, x] = [0, 0, 255]\n",
    "        elif dv < dw and dv < dl :\n",
    "            output[y, x] = [0, 255, 0]\n",
    "        else:\n",
    "            output[y, x] = [255, 255, 255]\n",
    "            \n",
    "        print(y, x, b[y,x], g[y,x], r[y,x])\n",
    "        \n",
    "        "
   ]
  },
  {
   "cell_type": "code",
   "execution_count": null,
   "id": "d84c4317",
   "metadata": {},
   "outputs": [],
   "source": [
    "# save result\n",
    "cv2.imwrite(\"rgb-classified.tif\", output);"
   ]
  },
  {
   "cell_type": "code",
   "execution_count": null,
   "id": "c556d5d2",
   "metadata": {},
   "outputs": [],
   "source": [
    "sum([194, 194, 194, 194, 195, 195, 195, 195, 195, 195])/10"
   ]
  },
  {
   "cell_type": "code",
   "execution_count": null,
   "id": "765dd557",
   "metadata": {},
   "outputs": [],
   "source": []
  }
 ],
 "metadata": {
  "kernelspec": {
   "display_name": "Python 3 (ipykernel)",
   "language": "python",
   "name": "python3"
  },
  "language_info": {
   "codemirror_mode": {
    "name": "ipython",
    "version": 3
   },
   "file_extension": ".py",
   "mimetype": "text/x-python",
   "name": "python",
   "nbconvert_exporter": "python",
   "pygments_lexer": "ipython3",
   "version": "3.9.13"
  }
 },
 "nbformat": 4,
 "nbformat_minor": 5
}
